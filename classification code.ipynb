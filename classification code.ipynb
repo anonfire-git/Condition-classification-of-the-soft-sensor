{
  "nbformat": 4,
  "nbformat_minor": 0,
  "metadata": {
    "colab": {
      "name": "classification.ipynb",
      "provenance": []
    },
    "kernelspec": {
      "name": "python3",
      "display_name": "Python 3"
    }
  },
  "cells": [
    {
      "cell_type": "code",
      "metadata": {
        "id": "r23GZawCJIDU"
      },
      "source": [
        "import keras as K\n",
        "import numpy as np\n",
        "%matplotlib inline\n",
        "import matplotlib.pyplot as plt\n",
        "import pandas as pd"
      ],
      "execution_count": null,
      "outputs": []
    },
    {
      "cell_type": "code",
      "metadata": {
        "id": "W4I8xMIYJUUp",
        "colab": {
          "base_uri": "https://localhost:8080/",
          "height": 194
        },
        "outputId": "622298d9-9b77-4a84-d607-5b2d449db8fb"
      },
      "source": [
        "dsoft_sensor = pd.read_csv(\"soft_sensor.csv\")\n",
        "dsoft_sensor.head()"
      ],
      "execution_count": null,
      "outputs": [
        {
          "output_type": "execute_result",
          "data": {
            "text/html": [
              "<div>\n",
              "<style scoped>\n",
              "    .dataframe tbody tr th:only-of-type {\n",
              "        vertical-align: middle;\n",
              "    }\n",
              "\n",
              "    .dataframe tbody tr th {\n",
              "        vertical-align: top;\n",
              "    }\n",
              "\n",
              "    .dataframe thead th {\n",
              "        text-align: right;\n",
              "    }\n",
              "</style>\n",
              "<table border=\"1\" class=\"dataframe\">\n",
              "  <thead>\n",
              "    <tr style=\"text-align: right;\">\n",
              "      <th></th>\n",
              "      <th>time</th>\n",
              "      <th>dis</th>\n",
              "      <th>resistance</th>\n",
              "      <th>classification</th>\n",
              "    </tr>\n",
              "  </thead>\n",
              "  <tbody>\n",
              "    <tr>\n",
              "      <th>0</th>\n",
              "      <td>0.00</td>\n",
              "      <td>0.00</td>\n",
              "      <td>682561</td>\n",
              "      <td>0</td>\n",
              "    </tr>\n",
              "    <tr>\n",
              "      <th>1</th>\n",
              "      <td>0.16</td>\n",
              "      <td>0.32</td>\n",
              "      <td>682680</td>\n",
              "      <td>0</td>\n",
              "    </tr>\n",
              "    <tr>\n",
              "      <th>2</th>\n",
              "      <td>0.32</td>\n",
              "      <td>0.64</td>\n",
              "      <td>683328</td>\n",
              "      <td>0</td>\n",
              "    </tr>\n",
              "    <tr>\n",
              "      <th>3</th>\n",
              "      <td>0.48</td>\n",
              "      <td>0.96</td>\n",
              "      <td>684515</td>\n",
              "      <td>0</td>\n",
              "    </tr>\n",
              "    <tr>\n",
              "      <th>4</th>\n",
              "      <td>0.64</td>\n",
              "      <td>1.28</td>\n",
              "      <td>686152</td>\n",
              "      <td>0</td>\n",
              "    </tr>\n",
              "  </tbody>\n",
              "</table>\n",
              "</div>"
            ],
            "text/plain": [
              "   time   dis  resistance  classification\n",
              "0  0.00  0.00      682561               0\n",
              "1  0.16  0.32      682680               0\n",
              "2  0.32  0.64      683328               0\n",
              "3  0.48  0.96      684515               0\n",
              "4  0.64  1.28      686152               0"
            ]
          },
          "metadata": {
            "tags": []
          },
          "execution_count": 2
        }
      ]
    },
    {
      "cell_type": "code",
      "metadata": {
        "id": "KTHhvctyJqXC",
        "colab": {
          "base_uri": "https://localhost:8080/",
          "height": 515
        },
        "outputId": "4ab02678-92b1-4062-cde1-722a903f5277"
      },
      "source": [
        "dis = dsoft_sensor[\"dis\"]\n",
        "dis = dis.values\n",
        "dis"
      ],
      "execution_count": null,
      "outputs": [
        {
          "output_type": "execute_result",
          "data": {
            "text/plain": [
              "array([ 0.  ,  0.32,  0.64,  0.96,  1.28,  1.6 ,  1.92,  2.24,  2.56,\n",
              "        2.88,  3.2 ,  3.52,  3.84,  4.16,  4.48,  4.8 ,  5.12,  5.44,\n",
              "        5.76,  6.08,  6.4 ,  6.72,  7.04,  7.36,  7.68,  8.  ,  8.32,\n",
              "        8.64,  8.96,  9.28,  9.6 ,  9.92, 10.24, 10.56, 10.88, 11.2 ,\n",
              "       11.52, 11.84, 12.16, 12.48, 12.8 , 13.12, 13.44, 13.76, 14.08,\n",
              "       14.4 , 14.72, 15.04, 15.36, 15.68, 16.  , 16.32, 16.64, 16.96,\n",
              "       17.28, 17.6 , 17.92, 18.24, 18.56, 18.88, 19.2 , 19.52, 19.84,\n",
              "       20.16, 20.48, 20.8 , 21.12, 21.44, 21.76, 22.08, 22.4 , 22.72,\n",
              "       23.04, 23.36, 23.68, 24.  , 24.32, 24.64, 24.96, 25.28, 25.6 ,\n",
              "       25.92, 26.24, 26.56, 26.88, 27.2 , 27.52, 27.84, 28.16, 28.48,\n",
              "       28.8 , 29.12, 29.44, 29.76, 30.08, 30.4 , 30.72, 31.04, 31.36,\n",
              "       31.68, 32.  , 32.32, 32.64, 32.96, 33.28, 33.6 , 33.92, 34.24,\n",
              "       34.56, 34.88, 35.2 , 35.52, 35.84, 36.16, 36.48, 36.8 , 37.12,\n",
              "       37.44, 37.76, 38.08, 38.4 , 38.72, 39.04, 39.36, 39.68, 40.  ,\n",
              "       39.84, 39.52, 39.2 , 38.88, 38.56, 38.24, 37.92, 37.6 , 37.28,\n",
              "       36.96, 36.64, 36.32, 36.  , 35.68, 35.36, 35.04, 34.72, 34.4 ,\n",
              "       34.08, 33.76, 33.44, 33.12, 32.8 , 32.48, 32.16, 31.84, 31.52,\n",
              "       31.2 , 30.88, 30.56, 30.24, 29.92, 29.6 , 29.28, 28.96, 28.64,\n",
              "       28.32, 28.  , 27.68, 27.36, 27.04, 26.72, 26.4 , 26.08, 25.76,\n",
              "       25.44, 25.12, 24.8 , 24.48, 24.16, 23.84, 23.52, 23.2 , 22.88,\n",
              "       22.56, 22.24, 21.92, 21.6 , 21.28, 20.96, 20.64, 20.32, 20.  ,\n",
              "       19.68, 19.36, 19.04, 18.72, 18.4 , 18.08, 17.76, 17.44, 17.12,\n",
              "       16.8 , 16.48, 16.16, 15.84, 15.52, 15.2 , 14.88, 14.56, 14.24,\n",
              "       13.92, 13.6 , 13.28, 12.96, 12.64, 12.32, 12.  , 11.68, 11.36,\n",
              "       11.04, 10.72, 10.4 , 10.08,  9.76,  9.44,  9.12,  8.8 ,  8.48,\n",
              "        8.16,  7.84,  7.52,  7.2 ,  6.88,  6.56,  6.24,  5.92,  5.6 ,\n",
              "        5.28,  4.96,  4.64,  4.32,  4.  ,  3.68,  3.36,  3.04,  2.72,\n",
              "        2.4 ,  2.08,  1.76,  1.44,  1.12,  0.8 ,  0.48,  0.16])"
            ]
          },
          "metadata": {
            "tags": []
          },
          "execution_count": 3
        }
      ]
    },
    {
      "cell_type": "code",
      "metadata": {
        "id": "3OsqXBIHKMSK",
        "colab": {
          "base_uri": "https://localhost:8080/",
          "height": 586
        },
        "outputId": "1195ce20-02b1-4a26-86a6-dc336cdd04cf"
      },
      "source": [
        "res = dsoft_sensor[\"resistance\"]\n",
        "res = res.values\n",
        "res"
      ],
      "execution_count": null,
      "outputs": [
        {
          "output_type": "execute_result",
          "data": {
            "text/plain": [
              "array([682561, 682680, 683328, 684515, 686152, 688393, 691119, 693996,\n",
              "       697363, 700856, 704189, 707494, 710399, 712588, 714236, 714809,\n",
              "       714492, 712934, 710352, 706833, 701928, 696080, 689459, 681470,\n",
              "       672950, 663876, 653697, 643469, 632805, 621328, 610089, 598632,\n",
              "       586418, 574644, 562853, 550276, 538409, 526960, 515038, 503719,\n",
              "       492318, 480640, 469784, 458840, 447723, 437486, 427123, 416720,\n",
              "       407107, 397444, 387840, 378987, 369958, 361054, 352825, 344453,\n",
              "       336188, 328625, 320812, 313317, 306321, 299181, 292262, 285781,\n",
              "       279222, 272834, 267018, 260937, 255127, 249563, 244191, 238978,\n",
              "       233954, 228847, 223993, 219338, 214644, 210192, 205912, 201532,\n",
              "       197419, 193453, 189399, 185620, 181952, 178197, 174748, 171346,\n",
              "       167870, 164676, 161513, 158306, 155352, 152414, 149415, 146710,\n",
              "       143981, 141257, 138720, 136226, 133733, 131441, 129065, 126872,\n",
              "       124852, 122766, 120718, 118832, 116954, 115116, 113471, 111833,\n",
              "       110270, 108898, 107537, 105426, 104095, 103132, 102419, 101867,\n",
              "       101371, 102222, 104009, 106115, 108449, 111028, 114008, 117156,\n",
              "       120446, 124149, 127852, 131703, 135931, 140089, 144384, 149030,\n",
              "       153589, 158275, 163331, 168228, 173283, 178677, 183884, 189311,\n",
              "       195016, 200503, 206258, 212296, 218082, 224148, 230479, 236544,\n",
              "       242930, 249573, 255930, 262683, 269589, 276238, 283384, 290598,\n",
              "       297591, 304998, 312535, 319824, 327608, 335396, 343030, 351211,\n",
              "       359342, 367311, 375854, 384335, 392654, 401591, 410378, 419064,\n",
              "       428381, 437567, 446714, 456408, 465861, 475276, 485347, 495086,\n",
              "       504846, 515203, 525047, 535096, 545558, 555614, 565795, 576442,\n",
              "       586476, 596769, 607358, 617439, 627672, 638120, 647796, 657661,\n",
              "       667707, 677137, 686835, 696537, 705519, 714684, 723736, 732112,\n",
              "       740690, 749096, 756743, 764503, 771974, 778786, 785676, 792221,\n",
              "       798202, 804201, 809770, 814852, 819956, 824563, 828707, 832835,\n",
              "       836534, 839907, 843204, 846101, 848705, 851266, 853460, 855438,\n",
              "       857246, 858816, 860148, 861334, 862317, 863130, 863813, 864132,\n",
              "       864420, 862739, 859544, 856047, 852384, 848892, 845423, 841878,\n",
              "       838633, 835320, 832095])"
            ]
          },
          "metadata": {
            "tags": []
          },
          "execution_count": 4
        }
      ]
    },
    {
      "cell_type": "code",
      "metadata": {
        "id": "Jv1LPWiSKfjy"
      },
      "source": [
        "x = list(zip(dis,res))\n",
        "x = np.array(x)"
      ],
      "execution_count": null,
      "outputs": []
    },
    {
      "cell_type": "code",
      "metadata": {
        "id": "KkfvubOEKv7q",
        "colab": {
          "base_uri": "https://localhost:8080/",
          "height": 230
        },
        "outputId": "fca5ebe8-3304-44c4-d009-6e725e353a80"
      },
      "source": [
        "y = dsoft_sensor[\"classification\"]\n",
        "y = y.values\n",
        "y"
      ],
      "execution_count": null,
      "outputs": [
        {
          "output_type": "execute_result",
          "data": {
            "text/plain": [
              "array([0, 0, 0, 0, 0, 0, 0, 0, 0, 0, 0, 0, 0, 0, 0, 0, 0, 0, 0, 0, 0, 0,\n",
              "       0, 0, 0, 0, 0, 0, 0, 0, 0, 0, 0, 0, 0, 0, 0, 0, 0, 0, 0, 0, 0, 0,\n",
              "       0, 0, 0, 0, 0, 0, 0, 0, 0, 0, 0, 0, 0, 0, 0, 0, 0, 0, 0, 0, 0, 0,\n",
              "       0, 0, 0, 0, 0, 0, 0, 0, 0, 0, 0, 0, 0, 0, 0, 0, 0, 0, 0, 0, 0, 0,\n",
              "       0, 0, 0, 0, 0, 0, 0, 0, 0, 0, 0, 0, 0, 0, 0, 0, 0, 0, 0, 0, 0, 0,\n",
              "       0, 0, 0, 0, 0, 0, 0, 0, 0, 0, 0, 0, 0, 0, 0, 0, 1, 1, 1, 1, 1, 1,\n",
              "       1, 1, 1, 1, 1, 1, 1, 1, 1, 1, 1, 1, 1, 1, 1, 1, 1, 1, 1, 1, 1, 1,\n",
              "       1, 1, 1, 1, 1, 1, 1, 1, 1, 1, 1, 1, 1, 1, 1, 1, 1, 1, 1, 1, 1, 1,\n",
              "       1, 1, 1, 1, 1, 1, 1, 1, 1, 1, 1, 1, 1, 1, 1, 1, 1, 1, 1, 1, 1, 1,\n",
              "       1, 1, 1, 1, 1, 1, 1, 1, 1, 1, 1, 1, 1, 1, 1, 1, 1, 1, 1, 1, 1, 1,\n",
              "       1, 1, 1, 1, 1, 1, 1, 1, 1, 1, 1, 1, 1, 1, 1, 1, 1, 1, 1, 1, 1, 1,\n",
              "       1, 1, 1, 1, 1, 1, 1, 1, 1])"
            ]
          },
          "metadata": {
            "tags": []
          },
          "execution_count": 6
        }
      ]
    },
    {
      "cell_type": "code",
      "metadata": {
        "id": "EYikrHyvLC5q"
      },
      "source": [
        "from sklearn.model_selection import train_test_split"
      ],
      "execution_count": null,
      "outputs": []
    },
    {
      "cell_type": "code",
      "metadata": {
        "id": "eque8Z_CZ-cl"
      },
      "source": [
        "x_train, x_test, y_train, y_test = train_test_split(x,y,test_size=0.5,random_state=50)"
      ],
      "execution_count": null,
      "outputs": []
    },
    {
      "cell_type": "code",
      "metadata": {
        "id": "oqCvXu6SaVb2",
        "colab": {
          "base_uri": "https://localhost:8080/",
          "height": 287
        },
        "outputId": "370658bb-588d-4a46-f75e-328bb72cf7b0"
      },
      "source": [
        "plt.scatter(x_train[:,0], x_train[:,1], c= y_train)"
      ],
      "execution_count": null,
      "outputs": [
        {
          "output_type": "execute_result",
          "data": {
            "text/plain": [
              "<matplotlib.collections.PathCollection at 0x7fb2209140f0>"
            ]
          },
          "metadata": {
            "tags": []
          },
          "execution_count": 9
        },
        {
          "output_type": "display_data",
          "data": {
            "image/png": "[encoded data removed]",
            "text/plain": [
              "<Figure size 432x288 with 1 Axes>"
            ]
          },
          "metadata": {
            "tags": [],
            "needs_background": "light"
          }
        }
      ]
    },
    {
      "cell_type": "code",
      "metadata": {
        "id": "hA4lCJiXkxL8"
      },
      "source": [
        ""
      ],
      "execution_count": null,
      "outputs": []
    },
    {
      "cell_type": "code",
      "metadata": {
        "id": "g7PGFHqbapHG"
      },
      "source": [
        "from sklearn.preprocessing import PolynomialFeatures, StandardScaler\n",
        "from sklearn.svm import LinearSVC\n",
        "from sklearn.pipeline import Pipeline\n",
        "\n",
        "def PolynomialSVC(degree, C=1.0):\n",
        "    return Pipeline([\n",
        "        ('poly', PolynomialFeatures(degree=degree)),\n",
        "        ('std)scaler', StandardScaler()),\n",
        "        ('linearSVC', LinearSVC(C=C))\n",
        "    ])"
      ],
      "execution_count": null,
      "outputs": []
    },
    {
      "cell_type": "code",
      "metadata": {
        "id": "g92oHOsIe5Z6"
      },
      "source": [
        "clf = PolynomialSVC(degree=3)"
      ],
      "execution_count": null,
      "outputs": []
    },
    {
      "cell_type": "code",
      "metadata": {
        "id": "pvj2aUa8fENw",
        "colab": {
          "base_uri": "https://localhost:8080/",
          "height": 248
        },
        "outputId": "21032622-b4ab-4198-d753-9f86d079e0b9"
      },
      "source": [
        "clf.fit(x_train,y_train)"
      ],
      "execution_count": null,
      "outputs": [
        {
          "output_type": "execute_result",
          "data": {
            "text/plain": [
              "Pipeline(memory=None,\n",
              "         steps=[('poly',\n",
              "                 PolynomialFeatures(degree=3, include_bias=True,\n",
              "                                    interaction_only=False, order='C')),\n",
              "                ('std)scaler',\n",
              "                 StandardScaler(copy=True, with_mean=True, with_std=True)),\n",
              "                ('linearSVC',\n",
              "                 LinearSVC(C=1.0, class_weight=None, dual=True,\n",
              "                           fit_intercept=True, intercept_scaling=1,\n",
              "                           loss='squared_hinge', max_iter=1000,\n",
              "                           multi_class='ovr', penalty='l2', random_state=None,\n",
              "                           tol=0.0001, verbose=0))],\n",
              "         verbose=False)"
            ]
          },
          "metadata": {
            "tags": []
          },
          "execution_count": 12
        }
      ]
    },
    {
      "cell_type": "code",
      "metadata": {
        "id": "7ADwUfX8bzw9",
        "colab": {
          "base_uri": "https://localhost:8080/",
          "height": 287
        },
        "outputId": "40831c8a-5b2d-4dfe-d0b5-df35093dd7bf"
      },
      "source": [
        "y_predict = clf.predict(x_test)\n",
        "plt.scatter(x_test[:,0], x_test[:,1], c=y_predict)"
      ],
      "execution_count": null,
      "outputs": [
        {
          "output_type": "execute_result",
          "data": {
            "text/plain": [
              "<matplotlib.collections.PathCollection at 0x7fb21eca4710>"
            ]
          },
          "metadata": {
            "tags": []
          },
          "execution_count": 13
        },
        {
          "output_type": "display_data",
          "data": {
            "image/png": "[encoded data removed]",
            "text/plain": [
              "<Figure size 432x288 with 1 Axes>"
            ]
          },
          "metadata": {
            "tags": [],
            "needs_background": "light"
          }
        }
      ]
    },
    {
      "cell_type": "code",
      "metadata": {
        "id": "WJilYYbRcEGG",
        "colab": {
          "base_uri": "https://localhost:8080/",
          "height": 318
        },
        "outputId": "84c58fa7-7704-4526-8ba2-11a87b6be10e"
      },
      "source": [
        "x1, x2 = np.meshgrid(np.arange(0,40,0.1), np.arange(0,900000,10000))\n",
        "Z = clf.predict(np.c_[x1.ravel(),x2.ravel()])\n",
        "Z = Z.reshape(x1.shape)\n",
        "plt.contourf(x1, x2, Z, c=Z, cmap=plt.cm.coolwarm, alpha=0.7)\n",
        "plt.scatter(x_test[:,0], x_test[:,1],c=y_predict)"
      ],
      "execution_count": null,
      "outputs": [
        {
          "output_type": "stream",
          "text": [
            "/usr/local/lib/python3.6/dist-packages/ipykernel_launcher.py:4: UserWarning: The following kwargs were not used by contour: 'c'\n",
            "  after removing the cwd from sys.path.\n"
          ],
          "name": "stderr"
        },
        {
          "output_type": "execute_result",
          "data": {
            "text/plain": [
              "<matplotlib.collections.PathCollection at 0x7fb21ec1afd0>"
            ]
          },
          "metadata": {
            "tags": []
          },
          "execution_count": 14
        },
        {
          "output_type": "display_data",
          "data": {
            "image/png": "[encoded data removed]",
            "text/plain": [
              "<Figure size 432x288 with 1 Axes>"
            ]
          },
          "metadata": {
            "tags": [],
            "needs_background": "light"
          }
        }
      ]
    },
    {
      "cell_type": "code",
      "metadata": {
        "id": "rUDjO8btinPX"
      },
      "source": [
        ""
      ],
      "execution_count": null,
      "outputs": []
    }
  ]
}